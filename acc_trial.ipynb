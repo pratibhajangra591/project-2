{
 "cells": [
  {
   "cell_type": "code",
   "execution_count": 2,
   "id": "788e0179-55d1-4700-985a-ca4dd2959d34",
   "metadata": {},
   "outputs": [
    {
     "data": {
      "image/png": "[encoded data removed]",
      "text/plain": [
       "<Figure size 432x360 with 1 Axes>"
      ]
     },
     "metadata": {
      "needs_background": "light"
     },
     "output_type": "display_data"
    }
   ],
   "source": [
    "# Accretion of matter and radiation around the PBH from RD to MRE such that\n",
    "# dm/dz = dm/dt . dt/dz with full dt/dz calculated from t_3 with\n",
    "# t_3 = np.sqrt(3/(4 * np.pi * G * ρ_eq)) * ((2/3) * (s-2) * np.sqrt(s+1) + (4/3)).\n",
    "\n",
    "\n",
    "from scipy.integrate import quad\n",
    "import numpy as np\n",
    "from scipy.integrate import odeint\n",
    "from matplotlib import rcParams\n",
    "import matplotlib.pyplot as plt\n",
    "from matplotlib import rcParams\n",
    "import scipy.integrate as spi\n",
    "from scipy.integrate import solve_ivp\n",
    "from scipy import integrate\n",
    "from accretion import*\n",
    "import math\n",
    "plt.rcParams.update({\n",
    "  \"text.usetex\": True,\n",
    "  \"font.family\": \"serif\"\n",
    "})\n",
    "\n",
    "bin_centres = np.geomspace(1e5, 1e-5, 6)\n",
    "bin_edges = np.sqrt(bin_centres[:-1]*bin_centres[1:])\n",
    "ratio = bin_edges[1]/bin_edges[0] \n",
    "bin_edges = np.append(bin_edges[0]/ratio, bin_edges) \n",
    "bin_edges = np.append(bin_edges, bin_edges[-1]*ratio) \n",
    "deltas = np.diff(bin_edges)\n",
    "Δ_1_list = deltas.tolist()\n",
    "Δ_2_list = deltas.tolist()\n",
    "m1_arr = np.geomspace(1e5, 1e-5, 6)\n",
    "m2_arr = np.geomspace(1e5, 1e-5, 6)\n",
    "\n",
    "\n",
    "\n",
    "\n",
    "plt.figure(figsize = (6, 5))\n",
    "plt.loglog(m1_arr , z_pbh(m1_arr, γ = 0.2), 'r')\n",
    "plt.xlabel('$m_\\mathrm{pbh}$', fontsize = 29, labelpad = 10) \n",
    "plt.ylabel('$z(m_\\mathrm{pbh})$', fontsize = 29, labelpad = 10)\n",
    "plt.xticks(fontsize = 26)\n",
    "plt.yticks(fontsize = 26)\n",
    "plt.title('$\\gamma = 0.2$', fontsize = 24, pad = 8)\n",
    "plt.show()"
   ]
  },
  {
   "cell_type": "code",
   "execution_count": 3,
   "id": "62ed6e75-5e0f-4ed3-a1bf-989dc66ca392",
   "metadata": {},
   "outputs": [
    {
     "name": "stderr",
     "output_type": "stream",
     "text": [
      "/tmp/ipykernel_59456/3603376064.py:11: RuntimeWarning: overflow encountered in double_scalars\n",
      "  dm = (β * (m**2) * (1 + z)**4)/ ((c_s(z)**3) * np.sqrt((Ω_r0 * ((1+z)**6)) + (Ω_m0 * ((1+z)**5))))\n"
     ]
    },
    {
     "ename": "ValueError",
     "evalue": "need at least one array to concatenate",
     "output_type": "error",
     "traceback": [
      "\u001b[0;31m---------------------------------------------------------------------------\u001b[0m",
      "\u001b[0;31mValueError\u001b[0m                                Traceback (most recent call last)",
      "Input \u001b[0;32mIn [3]\u001b[0m, in \u001b[0;36m<cell line: 26>\u001b[0;34m()\u001b[0m\n\u001b[1;32m     29\u001b[0m z_i \u001b[38;5;241m=\u001b[39m z_pbh(m1,  γ)\n\u001b[1;32m     30\u001b[0m t \u001b[38;5;241m=\u001b[39m np\u001b[38;5;241m.\u001b[39mgeomspace(z_i, z_eq, \u001b[38;5;241m100000\u001b[39m)\n\u001b[0;32m---> 31\u001b[0m sol \u001b[38;5;241m=\u001b[39m \u001b[43msolve_ivp\u001b[49m\u001b[43m(\u001b[49m\u001b[43mm_racc\u001b[49m\u001b[43m,\u001b[49m\u001b[43m \u001b[49m\u001b[43mt_span\u001b[49m\u001b[43m \u001b[49m\u001b[38;5;241;43m=\u001b[39;49m\u001b[43m \u001b[49m\u001b[43m[\u001b[49m\u001b[43mt\u001b[49m\u001b[43m[\u001b[49m\u001b[38;5;241;43m0\u001b[39;49m\u001b[43m]\u001b[49m\u001b[43m,\u001b[49m\u001b[43m \u001b[49m\u001b[43mt\u001b[49m\u001b[43m[\u001b[49m\u001b[38;5;241;43m-\u001b[39;49m\u001b[38;5;241;43m1\u001b[39;49m\u001b[43m]\u001b[49m\u001b[43m]\u001b[49m\u001b[43m,\u001b[49m\u001b[43m \u001b[49m\u001b[43my0\u001b[49m\u001b[43m \u001b[49m\u001b[38;5;241;43m=\u001b[39;49m\u001b[43m \u001b[49m\u001b[43m[\u001b[49m\u001b[43mm1\u001b[49m\u001b[43m]\u001b[49m\u001b[43m,\u001b[49m\u001b[43m \u001b[49m\u001b[43mt_eval\u001b[49m\u001b[43m \u001b[49m\u001b[38;5;241;43m=\u001b[39;49m\u001b[43m \u001b[49m\u001b[43mt\u001b[49m\u001b[43m)\u001b[49m\n\u001b[1;32m     32\u001b[0m y \u001b[38;5;241m=\u001b[39m sol\u001b[38;5;241m.\u001b[39my\u001b[38;5;241m.\u001b[39mT \n\u001b[1;32m     33\u001b[0m t \u001b[38;5;241m=\u001b[39m sol\u001b[38;5;241m.\u001b[39mt\n",
      "File \u001b[0;32m~/miniconda3/envs/PhD/lib/python3.9/site-packages/scipy/integrate/_ivp/ivp.py:650\u001b[0m, in \u001b[0;36msolve_ivp\u001b[0;34m(fun, t_span, y0, method, t_eval, dense_output, events, vectorized, args, **options)\u001b[0m\n\u001b[1;32m    648\u001b[0m     ys \u001b[38;5;241m=\u001b[39m np\u001b[38;5;241m.\u001b[39mvstack(ys)\u001b[38;5;241m.\u001b[39mT\n\u001b[1;32m    649\u001b[0m \u001b[38;5;28;01melse\u001b[39;00m:\n\u001b[0;32m--> 650\u001b[0m     ts \u001b[38;5;241m=\u001b[39m \u001b[43mnp\u001b[49m\u001b[38;5;241;43m.\u001b[39;49m\u001b[43mhstack\u001b[49m\u001b[43m(\u001b[49m\u001b[43mts\u001b[49m\u001b[43m)\u001b[49m\n\u001b[1;32m    651\u001b[0m     ys \u001b[38;5;241m=\u001b[39m np\u001b[38;5;241m.\u001b[39mhstack(ys)\n\u001b[1;32m    653\u001b[0m \u001b[38;5;28;01mif\u001b[39;00m dense_output:\n",
      "File \u001b[0;32m<__array_function__ internals>:180\u001b[0m, in \u001b[0;36mhstack\u001b[0;34m(*args, **kwargs)\u001b[0m\n",
      "File \u001b[0;32m~/miniconda3/envs/PhD/lib/python3.9/site-packages/numpy/core/shape_base.py:345\u001b[0m, in \u001b[0;36mhstack\u001b[0;34m(tup)\u001b[0m\n\u001b[1;32m    343\u001b[0m     \u001b[38;5;28;01mreturn\u001b[39;00m _nx\u001b[38;5;241m.\u001b[39mconcatenate(arrs, \u001b[38;5;241m0\u001b[39m)\n\u001b[1;32m    344\u001b[0m \u001b[38;5;28;01melse\u001b[39;00m:\n\u001b[0;32m--> 345\u001b[0m     \u001b[38;5;28;01mreturn\u001b[39;00m \u001b[43m_nx\u001b[49m\u001b[38;5;241;43m.\u001b[39;49m\u001b[43mconcatenate\u001b[49m\u001b[43m(\u001b[49m\u001b[43marrs\u001b[49m\u001b[43m,\u001b[49m\u001b[43m \u001b[49m\u001b[38;5;241;43m1\u001b[39;49m\u001b[43m)\u001b[49m\n",
      "File \u001b[0;32m<__array_function__ internals>:180\u001b[0m, in \u001b[0;36mconcatenate\u001b[0;34m(*args, **kwargs)\u001b[0m\n",
      "\u001b[0;31mValueError\u001b[0m: need at least one array to concatenate"
     ]
    },
    {
     "data": {
      "image/png": "[encoded data removed]",
      "text/plain": [
       "<Figure size 1008x684 with 1 Axes>"
      ]
     },
     "metadata": {
      "needs_background": "light"
     },
     "output_type": "display_data"
    }
   ],
   "source": [
    "# Accretion around the PBH from RD to MRE.\n",
    "# Here, s = a/a_eq\n",
    "# Here, v = c_s with c_s speed of sound in the surrounding medium.\n",
    "# Here, γ is the ratio between the PBH mass and the horizon mass.\n",
    "\n",
    "\n",
    "def m_racc(t, y):\n",
    "    z = t\n",
    "    m = y[0]\n",
    "    β = ((4 * π * (G**2) * η_acc)) * ((3/(8 * π * G * ρ_c0))**(1/2))\n",
    "    dm = (β * (m**2) * (1 + z)**4)/ ((c_s(z)**3) * np.sqrt((Ω_r0 * ((1+z)**6)) + (Ω_m0 * ((1+z)**5))))\n",
    "    return dm\n",
    "    \n",
    "\n",
    "\n",
    "    \n",
    "colors = ['C0', 'C1','C2','C3','C4', 'C5']\n",
    "fig,ax = plt.subplots(1, figsize = (14, 9.5))\n",
    "plt.rc('lines', linewidth = 1.7)\n",
    "plt.rcParams['font.family'] = 'serif'\n",
    "plt.tick_params(axis = 'both', right=True, top=True, which = 'minor', width= 1.2, length = 4, direction = 'in')\n",
    "plt.tick_params(axis = 'both', right=True, top=True, which = 'major', width= 1.2, length = 9, direction = 'in')\n",
    "\n",
    "\n",
    "\n",
    "for i, (m1, color) in enumerate(zip(m1_arr, colors)):\n",
    "    m1*= M_solar\n",
    "    γ = 0.2\n",
    "    z_i = z_pbh(m1,  γ)\n",
    "    t = np.geomspace(z_i, z_eq, 100000)\n",
    "    sol = solve_ivp(m_racc, t_span = [t[0], t[-1]], y0 = [m1], t_eval = t)\n",
    "    y = sol.y.T \n",
    "    t = sol.t\n",
    "    ax.loglog(t, y, color = color)\n",
    "    \n",
    "    \n",
    "    \n",
    "    \n",
    "plt.axvline(x = z_eq,  color = 'k',  linestyle = ':')\n",
    "ax.tick_params(axis='x', pad = 8.9)\n",
    "ax.tick_params(axis='y', pad = 8.9)\n",
    "\n",
    "\n",
    "plt.xticks(fontsize = 38)\n",
    "plt.yticks(fontsize = 38)\n",
    "plt.xlabel('$z$',fontsize = 52, labelpad = 14)\n",
    "plt.ylabel(r'$\\frac{(m_\\mathrm{r,\\, acc}(z) - m)}{m} $',fontsize = 58, labelpad = 14)\n",
    "plt.legend(['$10^{5}$', r'$10^{3}$',\n",
    "            '$10^{-1}$', '$10^{-3}$', r'$10^{-5}$'], \n",
    "           prop = {'size':32}, loc = (1.02, 0.04), shadow = True, \n",
    "           title = '$m\\, [\\mathrm{M_{\\odot}}]$' ,\n",
    "           title_fontsize = 37, facecolor = 'white', fontsize = 65)\n",
    "plt.xlim(1e16, 0.5*z_eq)\n",
    "#plt.ylim(1e-5, 0.1)\n",
    "plt.title(r'Radiation accretion$,\\, \\gamma = 0.2, \\,\\eta_\\mathrm{acc} = 0.1$', fontsize = 40, pad = 11)\n",
    "#plt.savefig('racc.pdf', bbox_inches = 'tight')\n",
    "plt.show()"
   ]
  },
  {
   "cell_type": "code",
   "execution_count": null,
   "id": "d5fe97c1-974b-4466-9669-8340acf27373",
   "metadata": {},
   "outputs": [],
   "source": []
  }
 ],
 "metadata": {
  "kernelspec": {
   "display_name": "Python 3 (ipykernel)",
   "language": "python",
   "name": "python3"
  },
  "language_info": {
   "codemirror_mode": {
    "name": "ipython",
    "version": 3
   },
   "file_extension": ".py",
   "mimetype": "text/x-python",
   "name": "python",
   "nbconvert_exporter": "python",
   "pygments_lexer": "ipython3",
   "version": "3.9.12"
  }
 },
 "nbformat": 4,
 "nbformat_minor": 5
}
