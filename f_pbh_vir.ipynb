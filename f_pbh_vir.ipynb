{
 "cells": [
  {
   "cell_type": "code",
   "execution_count": 44,
   "id": "ee352832-3f93-4729-8598-3aefc51ac351",
   "metadata": {},
   "outputs": [
    {
     "data": {
      "image/png": "[encoded data removed]",
      "text/plain": [
       "<Figure size 504x432 with 1 Axes>"
      ]
     },
     "metadata": {
      "needs_background": "light"
     },
     "output_type": "display_data"
    }
   ],
   "source": [
    "from scipy.integrate import quad\n",
    "import numpy as np\n",
    "from scipy.integrate import odeint\n",
    "from matplotlib import rcParams\n",
    "import matplotlib.pyplot as plt\n",
    "from matplotlib import rcParams\n",
    "import scipy.integrate as spi\n",
    "from scipy.integrate import solve_ivp\n",
    "from scipy import integrate\n",
    "import matplotlib.ticker\n",
    "from mpmath import *\n",
    "from scipy.optimize import bisect, brentq, newton, root\n",
    "from PRaccretion import*\n",
    "import math\n",
    "plt.rcParams.update({\n",
    "  \"text.usetex\": True,\n",
    "  \"font.family\": \"serif\"\n",
    "})\n",
    "\n",
    "\n",
    "\n",
    "\n",
    "\n",
    "\n",
    "def M_2σ(z):\n",
    "    return 8.8e12 * np.exp(-1.8 * (1+z))\n",
    "\n",
    "    \n",
    "    \n",
    "def σ_min(z):\n",
    "    def M_min(z):\n",
    "        return  M_2σ(z)\n",
    "    return 10.2 - 0.79 * np.log(M_min(z))\n",
    "\n",
    "\n",
    "def v_p(z): # in units of pc/yr\n",
    "    def M_2σ(z):\n",
    "        return 8.8e12 * np.exp(-1.8 * (1+z))\n",
    "    return 17 * ((M_2σ(z) * 1e-8)**(1/3)) * (((1+z)/10)**(1/2)) * 1e3 * (yr/pc)\n",
    "\n",
    "\n",
    "def f_pbh_vir(z):\n",
    "    δ_c = 200\n",
    "    def v(z):\n",
    "        return δ_c/σ_min(z)\n",
    "    return  1 - math.erf(v(z)/np.sqrt(2))\n",
    "\n",
    "\n",
    "\n",
    "\n",
    "colors = ['C6', 'C5','C4','C3','C2', 'C1', 'C0']\n",
    "fig,ax = plt.subplots(1, figsize = (7, 6))\n",
    "plt.rc('lines', linewidth = 3)\n",
    "plt.rcParams['font.family'] = 'serif'\n",
    "plt.tick_params(axis = 'both', right=True, top=True, which = 'minor', width= 1.2, length = 4, direction = 'in')\n",
    "plt.tick_params(axis = 'both', right=True, top=True, which = 'major', width= 1.2, length = 9, direction = 'in')\n",
    "\n",
    "\n",
    "\n",
    "\n",
    "z_array = np.geomspace(100, 1, 100)\n",
    "f_pbh_vir_arr = np.zeros(len(z_array))\n",
    "\n",
    "\n",
    "\n",
    "\n",
    "for i, z in enumerate(z_array):\n",
    "    f_pbh_vir_arr[i] =f_pbh_vir(z)\n",
    "    \n",
    "\n",
    "    \n",
    "             \n",
    "ax.loglog(z_array, f_pbh_vir_arr, color ='#da80ff')  #e617ed      \n",
    "\n",
    "\n",
    "\n",
    "ax.tick_params(axis='x', pad = 9.9)\n",
    "ax.tick_params(axis='y', pad = 9.9)\n",
    "\n",
    "plt.xticks(fontsize = 36)\n",
    "plt.yticks(fontsize = 36)\n",
    "\n",
    "\n",
    "plt.ylim(1e-2, 10)\n",
    "\n",
    "plt.ylabel(r\"$f_\\mathrm{pbh,\\,vir}$ \", fontsize = 36, labelpad = 13)\n",
    "plt.xlabel(r\"$\\left(1+z\\right)$\", fontsize = 34, labelpad = 13)\n",
    "plt.savefig('f_pbh.pdf', bbox_inches = 'tight')\n",
    "plt.show()"
   ]
  },
  {
   "cell_type": "code",
   "execution_count": null,
   "id": "2e9ac7ad-1825-452b-83d7-faf864daca30",
   "metadata": {},
   "outputs": [],
   "source": []
  }
 ],
 "metadata": {
  "kernelspec": {
   "display_name": "Python 3 (ipykernel)",
   "language": "python",
   "name": "python3"
  },
  "language_info": {
   "codemirror_mode": {
    "name": "ipython",
    "version": 3
   },
   "file_extension": ".py",
   "mimetype": "text/x-python",
   "name": "python",
   "nbconvert_exporter": "python",
   "pygments_lexer": "ipython3",
   "version": "3.9.12"
  }
 },
 "nbformat": 4,
 "nbformat_minor": 5
}
